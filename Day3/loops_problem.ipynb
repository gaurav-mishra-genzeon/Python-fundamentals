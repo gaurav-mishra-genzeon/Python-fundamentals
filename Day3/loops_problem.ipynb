{
 "cells": [
  {
   "cell_type": "markdown",
   "metadata": {},
   "source": [
    "1. Counting Positive Numbers: \n",
    "Given a list find out the count of positive numbers."
   ]
  },
  {
   "cell_type": "code",
   "execution_count": 3,
   "metadata": {},
   "outputs": [
    {
     "name": "stdout",
     "output_type": "stream",
     "text": [
      "Final count of positive number is: 6\n"
     ]
    }
   ],
   "source": [
    "numbers=[1,-2,3,-4,5,6,7,-8,-9,10]\n",
    "positive_number_count=0\n",
    "\n",
    "for num in numbers:\n",
    "    if num>0:\n",
    "        positive_number_count +=1\n",
    "print(\"Final count of positive number is:\", positive_number_count)"
   ]
  },
  {
   "cell_type": "markdown",
   "metadata": {},
   "source": [
    "2. Sum of even number\n",
    "\n",
    "Calculate the sum of even numbers up to a given number n. \n"
   ]
  },
  {
   "cell_type": "code",
   "execution_count": 9,
   "metadata": {},
   "outputs": [
    {
     "name": "stdout",
     "output_type": "stream",
     "text": [
      "30\n"
     ]
    }
   ],
   "source": [
    "n=10\n",
    "sum_even=0\n",
    "\n",
    "for i in range(1,n+1):\n",
    "   if(i%2==0):\n",
    "      sum_even +=i\n",
    "print(sum_even)      "
   ]
  },
  {
   "cell_type": "markdown",
   "metadata": {},
   "source": [
    "3. Multiplication Table Printer\n",
    "\n",
    "Print the multiplication table for a given number up to 10,but skip the fifth iteration"
   ]
  },
  {
   "cell_type": "code",
   "execution_count": 12,
   "metadata": {},
   "outputs": [
    {
     "name": "stdout",
     "output_type": "stream",
     "text": [
      "3 x 1 = 3\n",
      "3 x 2 = 6\n",
      "3 x 3 = 9\n",
      "3 x 4 = 12\n",
      "3 x 6 = 18\n",
      "3 x 7 = 21\n",
      "3 x 8 = 24\n",
      "3 x 9 = 27\n",
      "3 x 10 = 30\n"
     ]
    }
   ],
   "source": [
    "number=3\n",
    "\n",
    "for i in range(1,11):\n",
    "    if(i==5):\n",
    "        continue\n",
    "    print(number,\"x\", i ,\"=\",number*i)"
   ]
  },
  {
   "cell_type": "markdown",
   "metadata": {},
   "source": [
    "4. Reverse a string using a loop\n"
   ]
  },
  {
   "cell_type": "code",
   "execution_count": 15,
   "metadata": {},
   "outputs": [
    {
     "name": "stdout",
     "output_type": "stream",
     "text": [
      "nohtyP\n"
     ]
    }
   ],
   "source": [
    "str=\"Python\"\n",
    "reverse=\"\"\n",
    "\n",
    "for char in str:\n",
    "    reverse= char+ reverse\n",
    "print(reverse)    "
   ]
  },
  {
   "cell_type": "markdown",
   "metadata": {},
   "source": [
    "5. Find the first non-repeated character."
   ]
  },
  {
   "cell_type": "code",
   "execution_count": 16,
   "metadata": {},
   "outputs": [
    {
     "name": "stdout",
     "output_type": "stream",
     "text": [
      "Char is:  r\n"
     ]
    }
   ],
   "source": [
    "str=\"teeter\"\n",
    "\n",
    "for char in str:\n",
    "    if str.count(char)==1:\n",
    "        print(\"Char is: \",char)\n",
    "        break\n"
   ]
  },
  {
   "cell_type": "markdown",
   "metadata": {},
   "source": [
    "6. Compute the factorial of a number using a while loop."
   ]
  },
  {
   "cell_type": "code",
   "execution_count": 17,
   "metadata": {},
   "outputs": [
    {
     "name": "stdout",
     "output_type": "stream",
     "text": [
      "120\n"
     ]
    }
   ],
   "source": [
    "number=5\n",
    "factorial=1\n",
    "\n",
    "while number >0:\n",
    "    factorial=factorial*number\n",
    "    number=number-1\n",
    "\n",
    "print(factorial)"
   ]
  },
  {
   "cell_type": "markdown",
   "metadata": {},
   "source": [
    "7. Validate Input\n",
    "Keep asking the user for input until they enter a number between 1 and 10"
   ]
  },
  {
   "cell_type": "code",
   "execution_count": 1,
   "metadata": {},
   "outputs": [
    {
     "name": "stdout",
     "output_type": "stream",
     "text": [
      "Enter a number between 1 and 10\n"
     ]
    }
   ],
   "source": [
    "number=45\n",
    "\n",
    "if 0<number<10:\n",
    "    print(\"Thanks\")\n",
    "else:\n",
    "    print(\"Enter a number between 1 and 10\")     "
   ]
  },
  {
   "cell_type": "markdown",
   "metadata": {},
   "source": [
    "8. Check whether a number is Prime or not"
   ]
  },
  {
   "cell_type": "code",
   "execution_count": 5,
   "metadata": {},
   "outputs": [
    {
     "name": "stdout",
     "output_type": "stream",
     "text": [
      "17 is Prime Number\n"
     ]
    }
   ],
   "source": [
    "number=17\n",
    "is_prime= True\n",
    "\n",
    "if number>1:\n",
    "    for i in range(2,number):\n",
    "        if (number%i==0):\n",
    "            is_prime=False\n",
    "            break\n",
    "\n",
    "if is_prime:\n",
    "    print(number, \"is Prime Number\")\n",
    "else:\n",
    "     print(number, \"is not Prime Number\")  "
   ]
  },
  {
   "cell_type": "markdown",
   "metadata": {},
   "source": [
    "9. List uniqueness checker"
   ]
  },
  {
   "cell_type": "code",
   "execution_count": 12,
   "metadata": {},
   "outputs": [
    {
     "name": "stdout",
     "output_type": "stream",
     "text": [
      "Duplicate\n"
     ]
    }
   ],
   "source": [
    "items=[\"apple\",\"banana\",\"orange\",\"apple\",\"mango\"]\n",
    "\n",
    "unique_item= set()\n",
    "\n",
    "\n",
    "for item in items:\n",
    "    if item in unique_item:\n",
    "        print(\"Duplicate\")\n",
    "        break\n",
    "    unique_item.add(item)\n",
    "\n",
    " "
   ]
  },
  {
   "cell_type": "markdown",
   "metadata": {},
   "source": [
    "10. Implement an exponential backoff strategy that doubles the wait time between retries,starting from 1 second,but stops after 5 retries."
   ]
  },
  {
   "cell_type": "code",
   "execution_count": null,
   "metadata": {},
   "outputs": [],
   "source": []
  }
 ],
 "metadata": {
  "kernelspec": {
   "display_name": "Python 3",
   "language": "python",
   "name": "python3"
  },
  "language_info": {
   "codemirror_mode": {
    "name": "ipython",
    "version": 3
   },
   "file_extension": ".py",
   "mimetype": "text/x-python",
   "name": "python",
   "nbconvert_exporter": "python",
   "pygments_lexer": "ipython3",
   "version": "3.12.2"
  }
 },
 "nbformat": 4,
 "nbformat_minor": 2
}
