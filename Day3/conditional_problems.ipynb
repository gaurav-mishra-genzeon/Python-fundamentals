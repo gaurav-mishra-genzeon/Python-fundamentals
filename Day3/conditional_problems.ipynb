{
 "cells": [
  {
   "cell_type": "markdown",
   "metadata": {},
   "source": [
    "1. Age Group Categorization\n",
    "\n",
    "Classify a person's age group: Child(<13>), Teenager(13-19),Adult(20-59),Senior(60+)"
   ]
  },
  {
   "cell_type": "code",
   "execution_count": 1,
   "metadata": {},
   "outputs": [
    {
     "name": "stdout",
     "output_type": "stream",
     "text": [
      "Adult\n"
     ]
    }
   ],
   "source": [
    "age= 25\n",
    "\n",
    "if age<13:\n",
    "    print(\"Child\")\n",
    "elif age>=13 and age<20:\n",
    "    print(\"Teenager\")\n",
    "elif age>19 and age<60:\n",
    "    print(\"Adult\")\n",
    "else:\n",
    "    print(\"Senior\")        \n"
   ]
  },
  {
   "cell_type": "markdown",
   "metadata": {},
   "source": [
    "2. Movie ticket pricing\n",
    "\n",
    "Movie tickets are based on age: $12 for adults(18 and over),$8 for children. Everyone gets a $2 discount on Wednesday."
   ]
  },
  {
   "cell_type": "code",
   "execution_count": 6,
   "metadata": {},
   "outputs": [
    {
     "name": "stdout",
     "output_type": "stream",
     "text": [
      "Ticket price is $6 for Paul\n"
     ]
    }
   ],
   "source": [
    "age=16\n",
    "day= \"Wednesday\"\n",
    "name= \"Paul\"\n",
    "\n",
    "if age>17 and day!=\"Wednesday\":\n",
    "    print(f\"Ticket price is $18 for {name}\")\n",
    "elif age>17 and day==\"Wednesday\":\n",
    "     print(f\"Ticket price is $16 for {name}\")\n",
    "elif age<18 and day==\"Wednesday\":\n",
    "     print(f\"Ticket price is $6 for {name}\")    \n",
    "else:\n",
    "    print(f\"Ticket price is $8 for {name}\")   "
   ]
  },
  {
   "cell_type": "code",
   "execution_count": 8,
   "metadata": {},
   "outputs": [
    {
     "name": "stdout",
     "output_type": "stream",
     "text": [
      "Ticket price for you is $6\n"
     ]
    }
   ],
   "source": [
    "#Method 2\n",
    "age=16\n",
    "day= \"Wednesday\"\n",
    "\n",
    "\n",
    "price=12 if age>=18 else 8\n",
    "\n",
    "if day==\"Wednesday\":\n",
    "    price -=2\n",
    "\n",
    "print(f\"Ticket price for you is ${price}\")"
   ]
  },
  {
   "cell_type": "markdown",
   "metadata": {},
   "source": [
    "3. Grade Calculator\n",
    "\n",
    "Assign a letter grade based on a student's score: A(90-100), B (80-89), C(70-79), D(60-69), E(Below 60)\n"
   ]
  },
  {
   "cell_type": "code",
   "execution_count": 1,
   "metadata": {},
   "outputs": [
    {
     "name": "stdout",
     "output_type": "stream",
     "text": [
      "C\n"
     ]
    }
   ],
   "source": [
    "score= 75\n",
    "\n",
    "if score>100:\n",
    "    print(\"Please verify your grade again\")\n",
    "    exit()  # \n",
    "\n",
    "if score>90 and score<=100:\n",
    "    grade= \"A\"\n",
    "elif score>=80:\n",
    "    grade = \"B\" \n",
    "elif score>=70:\n",
    "    grade = \"C\"\n",
    "elif score>=60:\n",
    "    grade = \"D\"     \n",
    "else:\n",
    "    grade = \"F\"\n",
    "\n",
    "print(grade)              \n"
   ]
  },
  {
   "cell_type": "markdown",
   "metadata": {},
   "source": [
    "4. Fruit Ripeness Checker\n",
    "\n",
    "Determine if a fruit is ripe,overripe, or unripe based on its colour. (eg- Banana:Green- Unripe, Yellow- Ripe,Brown- Overripe)"
   ]
  },
  {
   "cell_type": "code",
   "execution_count": 5,
   "metadata": {},
   "outputs": [
    {
     "name": "stdout",
     "output_type": "stream",
     "text": [
      "Ripe\n"
     ]
    }
   ],
   "source": [
    "fruit= \"Banana\"\n",
    "color= \"Yellow\"\n",
    "\n",
    "if fruit == \"Banana\":\n",
    "    if color == \"Green\":\n",
    "        print(\"Unripe\")\n",
    "    elif color== \"Yellow\":\n",
    "        print(\"Ripe\")\n",
    "    else:\n",
    "        print(\"Overripe\") \n",
    "else:\n",
    "    print(\"Don't have data regarding\")           \n"
   ]
  },
  {
   "cell_type": "markdown",
   "metadata": {},
   "source": [
    "5. Weather Activity Suggestion\n",
    "Suggest an activity based on weather( e.g.- Sunny- Go for a walk, Rainy- Read a book, Snowy- Build a snowman)"
   ]
  },
  {
   "cell_type": "code",
   "execution_count": 9,
   "metadata": {},
   "outputs": [
    {
     "name": "stdout",
     "output_type": "stream",
     "text": [
      "Go for a walk\n"
     ]
    }
   ],
   "source": [
    "weather= \"Sunny\"\n",
    "weather.lower()\n",
    "\n",
    "if weather==\"sunny\":\n",
    "    activity=\"Go for a walk\"\n",
    "elif weather==\"rainy\":\n",
    "    activity= \"Read a book\"\n",
    "elif weather==\"snowy\":\n",
    "    activity=\"Build a snowman\"     \n",
    "\n",
    "print(activity)    \n"
   ]
  },
  {
   "cell_type": "code",
   "execution_count": null,
   "metadata": {},
   "outputs": [],
   "source": []
  }
 ],
 "metadata": {
  "kernelspec": {
   "display_name": "Python 3",
   "language": "python",
   "name": "python3"
  },
  "language_info": {
   "codemirror_mode": {
    "name": "ipython",
    "version": 3
   },
   "file_extension": ".py",
   "mimetype": "text/x-python",
   "name": "python",
   "nbconvert_exporter": "python",
   "pygments_lexer": "ipython3",
   "version": "3.12.2"
  }
 },
 "nbformat": 4,
 "nbformat_minor": 2
}
